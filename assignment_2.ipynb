{
  "nbformat": 4,
  "nbformat_minor": 0,
  "metadata": {
    "colab": {
      "name": "assignment-2",
      "provenance": [],
      "authorship_tag": "ABX9TyMgrhi/yWU2ZN2i/hZ4XCBw",
      "include_colab_link": true
    },
    "kernelspec": {
      "name": "python3",
      "display_name": "Python 3"
    }
  },
  "cells": [
    {
      "cell_type": "markdown",
      "metadata": {
        "id": "view-in-github",
        "colab_type": "text"
      },
      "source": [
        "<a href=\"https://colab.research.google.com/github/srinath68/Assignment-2---19K45A0209/blob/master/assignment_2.ipynb\" target=\"_parent\"><img src=\"https://colab.research.google.com/assets/colab-badge.svg\" alt=\"Open In Colab\"/></a>"
      ]
    },
    {
      "cell_type": "markdown",
      "metadata": {
        "id": "axFYiUKzWAnJ",
        "colab_type": "text"
      },
      "source": [
        "#1. Given the lengths of three sides of a triangle, calculate the area of the triangle."
      ]
    },
    {
      "cell_type": "code",
      "metadata": {
        "id": "gY3IggGZXfEg",
        "colab_type": "code",
        "colab": {
          "base_uri": "https://localhost:8080/",
          "height": 87
        },
        "outputId": "610b04ea-fcee-4689-b1e8-4fa4acd81d04"
      },
      "source": [
        "a = float(input(\"Enter First side:\"))\n",
        "b = float(input(\"Enter Second side:\"))\n",
        "c = float(input(\"Enter Third side:\"))\n",
        "s = (a+b+c)/2\n",
        "area = (s*(s-a)*(s-b)*(s-c))**0.5\n",
        "print(\"Area of Triangle=\",area)"
      ],
      "execution_count": 3,
      "outputs": [
        {
          "output_type": "stream",
          "text": [
            "Enter First side:3\n",
            "Enter Second side:5\n",
            "Enter Third side:7\n",
            "Area of Triangle= 6.49519052838329\n"
          ],
          "name": "stdout"
        }
      ]
    },
    {
      "cell_type": "markdown",
      "metadata": {
        "id": "hHt8fck3XnlT",
        "colab_type": "text"
      },
      "source": [
        "#2. Take a string from end user and check if the value is palindrome or not.\n"
      ]
    },
    {
      "cell_type": "code",
      "metadata": {
        "id": "6ChogU9VXvez",
        "colab_type": "code",
        "colab": {
          "base_uri": "https://localhost:8080/",
          "height": 52
        },
        "outputId": "59579f5b-23f3-43cb-9500-c377ad8240aa"
      },
      "source": [
        "s=input(\"Enter a string:\")\n",
        "if(s==s[::-1]):\n",
        "    print(\"Given string {} is palindrome\".format(s))\n",
        "else:\n",
        "    print(\"Given string {} is not palindrome\".format(s))"
      ],
      "execution_count": 6,
      "outputs": [
        {
          "output_type": "stream",
          "text": [
            "Enter a string:babblu\n",
            "Given string babblu is not palindrome\n"
          ],
          "name": "stdout"
        }
      ]
    },
    {
      "cell_type": "markdown",
      "metadata": {
        "id": "-TUGTNoHYEXS",
        "colab_type": "text"
      },
      "source": [
        "#3. Write a program that reads a year from the user and displays a message indicating whether year is leap year or not."
      ]
    },
    {
      "cell_type": "code",
      "metadata": {
        "id": "CwRSSPKsYNUW",
        "colab_type": "code",
        "colab": {
          "base_uri": "https://localhost:8080/",
          "height": 52
        },
        "outputId": "66737bcd-13ba-432a-a776-c31f72407d59"
      },
      "source": [
        "year=int(input(\"Enter the year:\"))\n",
        "if(year%4==0 and year%100!=0 or year%400==0):\n",
        "    print(\"{} The entered year is leap year\".format(year))\n",
        "else:\n",
        "    print(\"{} The entered year is not a leap year\".format(year))\n"
      ],
      "execution_count": null,
      "outputs": [
        {
          "output_type": "stream",
          "text": [
            "Enter the year:2020\n",
            "2020 The entered year is leap year\n"
          ],
          "name": "stdout"
        }
      ]
    },
    {
      "cell_type": "markdown",
      "metadata": {
        "id": "6o5eM6aBYcFK",
        "colab_type": "text"
      },
      "source": [
        "#4. Space to Hyphen problem\n",
        "#   Take a string as input, and replaces spaces \" \" with hyphens \"-\", and returns a string.\n",
        "#   Input: \"This program converts spaces into hyphen\"\n",
        "#   Output: \"This-program-converts-spaces-into-hyphen\"\n"
      ]
    },
    {
      "cell_type": "code",
      "metadata": {
        "id": "b1CFbbVwY3r6",
        "colab_type": "code",
        "colab": {
          "base_uri": "https://localhost:8080/",
          "height": 52
        },
        "outputId": "668aae84-8983-4279-9d34-5b3b52ad4dfc"
      },
      "source": [
        "n=input(\"Enter a string : \")\n",
        "print(n.replace(' ','-'))"
      ],
      "execution_count": null,
      "outputs": [
        {
          "output_type": "stream",
          "text": [
            "Enter a string : \"This program converts spaces into hyphen\"\n",
            "\"This-program-converts-spaces-into-hyphen\"\n"
          ],
          "name": "stdout"
        }
      ]
    },
    {
      "cell_type": "markdown",
      "metadata": {
        "id": "Gkf0748UZE7S",
        "colab_type": "text"
      },
      "source": [
        "#5. Unique Sort Problem.\n",
        "#   Take a string as input that accepts a comma separated sequence of words as input and prints the unique words in sorted form (alphanumerically).\n",
        "#   Input: orange,white,red,cyan,green,magenta,cyan,pink,white\n",
        "#   Output: cyan,green,magenta,orange,pink,red,white\n"
      ]
    },
    {
      "cell_type": "code",
      "metadata": {
        "id": "uCg_2Yb1YaAV",
        "colab_type": "code",
        "colab": {
          "base_uri": "https://localhost:8080/",
          "height": 52
        },
        "outputId": "c259aa06-9b88-48ef-97cf-d6505494e8a5"
      },
      "source": [
        "Input = input(\"Enter the words:\").split(\",\")\n",
        "words = list(set(Input))\n",
        "words.sort()\n",
        "print(\"Unique words in sorted form:\",str(words))"
      ],
      "execution_count": 7,
      "outputs": [
        {
          "output_type": "stream",
          "text": [
            "Enter the words:orange,white,red,cyan,green,magenta,cyan,pink,white\n",
            "Unique words in sorted form: ['cyan', 'green', 'magenta', 'orange', 'pink', 'red', 'white']\n"
          ],
          "name": "stdout"
        }
      ]
    },
    {
      "cell_type": "markdown",
      "metadata": {
        "id": "xB11SJR6hhYu",
        "colab_type": "text"
      },
      "source": [
        "#6. Tax Calculator\n",
        "#   Ask the user for their monthly salary. Calculate whether they have to pay tax and if so,\n",
        "#   how much is that amount .Print the result."
      ]
    },
    {
      "cell_type": "code",
      "metadata": {
        "id": "1IMVZ26chpmi",
        "colab_type": "code",
        "colab": {
          "base_uri": "https://localhost:8080/",
          "height": 52
        },
        "outputId": "b1557039-c934-492c-9302-715936acc7c8"
      },
      "source": [
        "salary=int(input(\"Enter the salary : \"))\n",
        "if (salary>=0) and (salary<=250000):\n",
        "    tax=(salary*0)\n",
        "elif (salary>250000) and (salary<=500000):\n",
        "    tax=(salary*0.05)\n",
        "elif (salary>500000) and (salary<=750000):\n",
        "    tax=(salary*0.1)\n",
        "elif (salary>750000) and (salary<=1000000):\n",
        "    tax=(salary*0.15)\n",
        "elif (salary>1000000) and (salary<=1250000):\n",
        "    tax=(salary*0.2)\n",
        "elif (salary>1250000) and (salary<=1500000):\n",
        "    tax=(salary*0.25)\n",
        "else:\n",
        "    tax=(salary*0.3)\n",
        "print(\"Tax is : \",tax)\n"
      ],
      "execution_count": 10,
      "outputs": [
        {
          "output_type": "stream",
          "text": [
            "Enter the salary : 850000\n",
            "Tax is :  127500.0\n"
          ],
          "name": "stdout"
        }
      ]
    },
    {
      "cell_type": "markdown",
      "metadata": {
        "id": "11eTboSuiENS",
        "colab_type": "text"
      },
      "source": [
        "#7. Take a list of integers as an argument, and converts it into a single integer (return the integer).\n",
        "#   input:[11,33,50]\n",
        "#   output:113350\n"
      ]
    },
    {
      "cell_type": "code",
      "metadata": {
        "id": "CdvrZXnHiLpT",
        "colab_type": "code",
        "colab": {
          "base_uri": "https://localhost:8080/",
          "height": 35
        },
        "outputId": "1d923570-6f7d-49fa-f1ac-6d9b34288d89"
      },
      "source": [
        "l=[11,33,50]\n",
        "for i in l:\n",
        "  print(i,end=\"\")"
      ],
      "execution_count": null,
      "outputs": [
        {
          "output_type": "stream",
          "text": [
            "113350"
          ],
          "name": "stdout"
        }
      ]
    },
    {
      "cell_type": "markdown",
      "metadata": {
        "id": "hZSfps_ZiVQj",
        "colab_type": "text"
      },
      "source": [
        "#8. Units of Time\n",
        "#   Create a program that reads duration from the user as a number of days, hours, minutes, and seconds. \n",
        "#   Compute and display the total number of seconds represented by this duration."
      ]
    },
    {
      "cell_type": "code",
      "metadata": {
        "id": "Gd8QK5_nig8K",
        "colab_type": "code",
        "colab": {
          "base_uri": "https://localhost:8080/",
          "height": 104
        },
        "outputId": "80617c6f-770c-4d1c-9589-c3b8a6aa7bf1"
      },
      "source": [
        "seconds_per_minute = 60\n",
        "seconds_per_hour = 3600\n",
        "seconds_per_day = 86400\n",
        "days = int(input(\"Enter no. of days\"))\n",
        "hours = int(input(\"Enter no. of hours\"))\n",
        "minutes = int(input(\"Enter no. of minutes\"))\n",
        "seconds = int(input(\"Enter no. of seconds\"))\n",
        "total_seconds = days*seconds_per_day\n",
        "total_seconds = total_seconds+(hours*seconds_per_hour)\n",
        "total_seconds = total_seconds+(minutes*seconds_per_minute)\n",
        "total_seconds = total_seconds+seconds\n",
        "print(\"Total seconds =\",total_seconds)\n"
      ],
      "execution_count": 13,
      "outputs": [
        {
          "output_type": "stream",
          "text": [
            "Enter no. of days365\n",
            "Enter no. of hours24\n",
            "Enter no. of minutes60\n",
            "Enter no. of seconds60\n",
            "Total seconds = 31626060\n"
          ],
          "name": "stdout"
        }
      ]
    },
    {
      "cell_type": "markdown",
      "metadata": {
        "id": "BRwvF0dYkt-J",
        "colab_type": "text"
      },
      "source": [
        "#9. Sort 3 integers\n",
        "#   Given three integers (given through user input), sort the numbers using |min| and |max| functions."
      ]
    },
    {
      "cell_type": "code",
      "metadata": {
        "id": "qMbKeGjFkvM6",
        "colab_type": "code",
        "colab": {
          "base_uri": "https://localhost:8080/",
          "height": 87
        },
        "outputId": "7c772fee-2bb8-4e3b-ab4d-7919dba77f03"
      },
      "source": [
        "a=int(input(\"Enter the number of a:\"))\n",
        "b=int(input(\"Enter the number of b:\"))\n",
        "c=int(input(\"Enter the number of c:\"))\n",
        "d=min(a,b,c)\n",
        "e=max(a,b,c)\n",
        "f=(a+b+c)-d-e\n",
        "print(\"The Sorted order is:\",d,f,e)"
      ],
      "execution_count": 15,
      "outputs": [
        {
          "output_type": "stream",
          "text": [
            "Enter the number of a:17\n",
            "Enter the number of b:06\n",
            "Enter the number of c:2000\n",
            "The Sorted order is: 6 17 2000\n"
          ],
          "name": "stdout"
        }
      ]
    },
    {
      "cell_type": "markdown",
      "metadata": {
        "id": "3ThhRcHRlb2V",
        "colab_type": "text"
      },
      "source": [
        "#10.  Write a program that reads a date from the user and computes its immediate successor.The date is the format YYYY-MM-DD. So, 2020-04-15\n",
        "#     will have the successor 2020-04-16."
      ]
    },
    {
      "cell_type": "code",
      "metadata": {
        "id": "gvqopJRGlc53",
        "colab_type": "code",
        "colab": {
          "base_uri": "https://localhost:8080/",
          "height": 87
        },
        "outputId": "483cd0ac-d7e4-401a-c07a-60f8255b9882"
      },
      "source": [
        "year=int(input(\"Enter a year : \"))\n",
        "if year%400== 0:\n",
        "    leapyear=True\n",
        "elif year%100==0:\n",
        "    leapyear=False\n",
        "elif year%4==0:\n",
        "    leapyear=True\n",
        "else:\n",
        "    leapyear=False\n",
        "month=int(input(\"Enter a month between 1 to 12 : \"))\n",
        "if month in (1, 3, 5, 7, 8, 10, 12):\n",
        "    monthlength=31\n",
        "elif month==2:\n",
        "    if leapyear:\n",
        "        monthlength=29\n",
        "    else:\n",
        "        monthlength=28\n",
        "else:\n",
        "    monthlength=30\n",
        "day=int(input(\"Enter a day between 1 to 31 : \"))\n",
        "if day<monthlength:\n",
        "    day+=1\n",
        "else:\n",
        "    day=1\n",
        "    if month==12:\n",
        "        month=1\n",
        "        year+=1\n",
        "    else:\n",
        "        month+=1\n",
        "print(\"The immediate successor is YYYY-MM-DD : %d-%d-%d.\" %(year,month,day))\n"
      ],
      "execution_count": 17,
      "outputs": [
        {
          "output_type": "stream",
          "text": [
            "Enter a year : 2020\n",
            "Enter a month between 1 to 12 : 04\n",
            "Enter a day between 1 to 31 : 15\n",
            "The immediate successor is YYYY-MM-DD : 2020-4-16.\n"
          ],
          "name": "stdout"
        }
      ]
    },
    {
      "cell_type": "markdown",
      "metadata": {
        "id": "U78hmfUQl1fD",
        "colab_type": "text"
      },
      "source": [
        "#11. Compute product of a list of numbers [45,3,2,89,72,1,10,7]\n",
        "#    Output: 121111200"
      ]
    },
    {
      "cell_type": "code",
      "metadata": {
        "id": "NeGUwrwxl-Vz",
        "colab_type": "code",
        "colab": {
          "base_uri": "https://localhost:8080/",
          "height": 35
        },
        "outputId": "6481df79-f9bc-4676-cc3d-13f135765107"
      },
      "source": [
        "list=[45,3,2,89,72,1,10,7]\n",
        "n=1\n",
        "for i in range(len(list)):\n",
        "    n=n*list[i]\n",
        "print(n)\n"
      ],
      "execution_count": null,
      "outputs": [
        {
          "output_type": "stream",
          "text": [
            "121111200\n"
          ],
          "name": "stdout"
        }
      ]
    },
    {
      "cell_type": "markdown",
      "metadata": {
        "id": "SuiEfTOMmGab",
        "colab_type": "text"
      },
      "source": [
        "#12.  Compute given Num_list=[5,6,8,34,89,1] to get desired output.\n",
        "#     Output : Out_list=[11,14,42,123,90]\n"
      ]
    },
    {
      "cell_type": "code",
      "metadata": {
        "id": "wfK6VGwjmM8S",
        "colab_type": "code",
        "colab": {
          "base_uri": "https://localhost:8080/",
          "height": 35
        },
        "outputId": "aa3a5179-5ce1-43ef-ea2d-20758e60322f"
      },
      "source": [
        "l=[5,6,8,34,89,1]\n",
        "Out_list=[]\n",
        "for i in range(len(l)-1):\n",
        "    ol=l[i]+l[i+1]\n",
        "    Out_list.append(ol)\n",
        "print(\"Out_list=\",Out_list)\n"
      ],
      "execution_count": null,
      "outputs": [
        {
          "output_type": "stream",
          "text": [
            "Out_list= [11, 14, 42, 123, 90]\n"
          ],
          "name": "stdout"
        }
      ]
    },
    {
      "cell_type": "markdown",
      "metadata": {
        "id": "Xxz07fDEmUFA",
        "colab_type": "text"
      },
      "source": [
        "#13.  Compute given Num_tuple=(5,6,8,3,9,1) to get desired output.\n",
        "#     Output : Out_list=[5,30,240,720,6480,6480]  "
      ]
    },
    {
      "cell_type": "code",
      "metadata": {
        "id": "vH99jJNJmsA8",
        "colab_type": "code",
        "colab": {}
      },
      "source": [
        ""
      ],
      "execution_count": null,
      "outputs": []
    },
    {
      "cell_type": "code",
      "metadata": {
        "id": "U8-fx0DfmsES",
        "colab_type": "code",
        "colab": {
          "base_uri": "https://localhost:8080/",
          "height": 35
        },
        "outputId": "2cb6d32f-5cff-4063-d6be-d5f0c7322c22"
      },
      "source": [
        "Num_tuple = (5,6,8,3,9,1)\n",
        "l = []\n",
        "m = 1\n",
        "for i in range(len(Num_tuple)):\n",
        "    m = m*Num_tuple[i]\n",
        "    l.append(m)\n",
        "print(l)"
      ],
      "execution_count": 25,
      "outputs": [
        {
          "output_type": "stream",
          "text": [
            "[5, 30, 240, 720, 6480, 6480]\n"
          ],
          "name": "stdout"
        }
      ]
    },
    {
      "cell_type": "markdown",
      "metadata": {
        "id": "RYnx73VInAv4",
        "colab_type": "text"
      },
      "source": [
        "#14.  Write a Python code that takes a number and returns a list of its digits. So for 586392 it should return [5,8,6,3,9,2].\n"
      ]
    },
    {
      "cell_type": "code",
      "metadata": {
        "id": "DeYnLNwYnK8x",
        "colab_type": "code",
        "colab": {
          "base_uri": "https://localhost:8080/",
          "height": 52
        },
        "outputId": "2c994c59-2764-4df6-a626-5e4738414095"
      },
      "source": [
        "number=input(\"Enter a number: \")\n",
        "list=[]\n",
        "for n in range(len(number)):\n",
        "    list.append(number[n])\n",
        "print(list)"
      ],
      "execution_count": null,
      "outputs": [
        {
          "output_type": "stream",
          "text": [
            "Enter a number: 586392\n",
            "['5', '8', '6', '3', '9', '2']\n"
          ],
          "name": "stdout"
        }
      ]
    },
    {
      "cell_type": "markdown",
      "metadata": {
        "id": "3qd5AueEngYb",
        "colab_type": "text"
      },
      "source": [
        "#15. Write a program that finds the longest palindromic substring of a given string."
      ]
    },
    {
      "cell_type": "code",
      "metadata": {
        "id": "_tEMd3donnv2",
        "colab_type": "code",
        "colab": {
          "base_uri": "https://localhost:8080/",
          "height": 52
        },
        "outputId": "617df600-c2db-4f39-ca8d-07eadf767462"
      },
      "source": [
        "def longestpalindrome(n):\n",
        "    d=[[False for i in range(len(n))] for i in range(len(n))]\n",
        "    for i in range(len(n)):\n",
        "        d[i][i]=True\n",
        "    maxlen=1\n",
        "    start=0\n",
        "    for j in range(2,len(n)+1):\n",
        "        for i in range(len(n)-j+1):\n",
        "            end=i+j\n",
        "            if j==2:\n",
        "                if n[i]==n[end-1]:\n",
        "                    d[i][end-1]=True\n",
        "                    maxlen=j\n",
        "                    start=i\n",
        "            else:\n",
        "                if n[i]==n[end-1] and d[i+1][end-2]:\n",
        "                    d[i][end-1]=True\n",
        "                    maxlen=j\n",
        "                    start=i\n",
        "    return n[start:start+maxlen]\n",
        "n=input(\"Enter a string : \")\n",
        "print(longestpalindrome(n))\n"
      ],
      "execution_count": 30,
      "outputs": [
        {
          "output_type": "stream",
          "text": [
            "Enter a string : babbluoo\n",
            "bab\n"
          ],
          "name": "stdout"
        }
      ]
    },
    {
      "cell_type": "markdown",
      "metadata": {
        "id": "XmePiIUJoAM7",
        "colab_type": "text"
      },
      "source": [
        "#16.  Substring Check (Bug Funny)\n",
        "#     Given two binary strings, A (of length 10) and B (of length 5), output 1 if B is a substring of A and 0 otherwise.\n",
        "#     First two lines of input:\n",
        "#     1010110010          10110\n",
        "#     1110111011           10011\n",
        "#     First two lines of output:\n",
        "#     1\n",
        "#     0"
      ]
    },
    {
      "cell_type": "code",
      "metadata": {
        "id": "Z4EimcOxoBVh",
        "colab_type": "code",
        "colab": {}
      },
      "source": [
        "def check(A, B): \n",
        "    if (A.find(B) == -1): \n",
        "        print(\"Output=0\") \n",
        "    else: \n",
        "        print(\"Output=1\")"
      ],
      "execution_count": 33,
      "outputs": []
    },
    {
      "cell_type": "code",
      "metadata": {
        "id": "DYzxio3eg9n_",
        "colab_type": "code",
        "colab": {
          "base_uri": "https://localhost:8080/",
          "height": 69
        },
        "outputId": "903010cf-9d00-4aa2-ea6d-4b9977451b54"
      },
      "source": [
        "A = input(\"Enter a binary string of length 10:\")\n",
        "B =input(\"Enter a binary string of length 5:\")\n",
        "check(A, B)"
      ],
      "execution_count": 34,
      "outputs": [
        {
          "output_type": "stream",
          "text": [
            "Enter a binary string of length 10:1010110010\n",
            "Enter a binary string of length 5:10110\n",
            "Output=1\n"
          ],
          "name": "stdout"
        }
      ]
    },
    {
      "cell_type": "code",
      "metadata": {
        "id": "TOYf9jMOhVHS",
        "colab_type": "code",
        "colab": {}
      },
      "source": [
        "def check(A, B): \n",
        "    if (A.find(B) == -1): \n",
        "        print(\"Output=0\") \n",
        "    else: \n",
        "        print(\"Output=1\")"
      ],
      "execution_count": 35,
      "outputs": []
    },
    {
      "cell_type": "code",
      "metadata": {
        "id": "PL4VJzU0hZnp",
        "colab_type": "code",
        "colab": {
          "base_uri": "https://localhost:8080/",
          "height": 69
        },
        "outputId": "1118c099-a74d-48b5-c85e-e61c7844ab30"
      },
      "source": [
        "A = input(\"Enter a binary string of length 10:\")\n",
        "B =input(\"Enter a binary string of length 5:\")\n",
        "check(A, B)"
      ],
      "execution_count": 36,
      "outputs": [
        {
          "output_type": "stream",
          "text": [
            "Enter a binary string of length 10:1110111011\n",
            "Enter a binary string of length 5:10011\n",
            "Output=0\n"
          ],
          "name": "stdout"
        }
      ]
    },
    {
      "cell_type": "markdown",
      "metadata": {
        "id": "_dGdHA2Co3oV",
        "colab_type": "text"
      },
      "source": [
        "#17 POUR1-pouring water\n",
        "given two vessel,one of which can accommodate a liters of water and the other -b liters of water ,determine the number of steps required to obtain exactly c liters of water in one of the vessels\n",
        "At the beginning both vessels are empty.the following operations are counted as 'steps':\n",
        "emptying a vessel,\n",
        "filling a vessel,\n",
        "pouring water from one vessel to the other,without spilling,until one of the vessels is either full or empty.\n",
        "INPUT\n",
        "an integer t, 1<=t<=100,denoting the number of testcases,followed by t sets of input data,each consisting of three positive integers a,b,c not larger than 40000, given in seperate lines.\n",
        "OUTPUT\n",
        "For each set of input data,output the minimum number of steps required to obtain c liters,or -1 if this is impossible"
      ]
    },
    {
      "cell_type": "code",
      "metadata": {
        "id": "KUrfHidhp02u",
        "colab_type": "code",
        "colab": {
          "base_uri": "https://localhost:8080/",
          "height": 104
        },
        "outputId": "3e8db4a0-3094-407a-fea6-92eb52e38ac6"
      },
      "source": [
        "t=int(input(\"number of test case\"))\n",
        "for i in range(t):\n",
        "  a,b,c=map(int,input(\"enter a b c\").split())\n",
        "  if a>b:\n",
        "    d=a-b\n",
        "  elif a<b:\n",
        "    d=b-a\n",
        "  if c==a or c==b:\n",
        "    print(\"1\")\n",
        "  elif d==c:\n",
        "    print(\"2\")\n",
        "  else:\n",
        "    print(\"-1\")"
      ],
      "execution_count": 38,
      "outputs": [
        {
          "output_type": "stream",
          "text": [
            "number of test case2\n",
            "enter a b c5 2 3\n",
            "2\n",
            "enter a b c2 3 4\n",
            "-1\n"
          ],
          "name": "stdout"
        }
      ]
    }
  ]
}